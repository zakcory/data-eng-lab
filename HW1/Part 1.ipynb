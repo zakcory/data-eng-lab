{
 "cells": [
  {
   "cell_type": "code",
   "id": "initial_id",
   "metadata": {
    "collapsed": true,
    "jupyter": {
     "is_executing": true
    }
   },
   "source": [
    "import numpy as np\n",
    "from scipy import spatial \n",
    "import faiss\n",
    "import typing\n",
    "from time import time\n",
    "import matplotlib.pyplot as plt"
   ],
   "outputs": [],
   "execution_count": null
  },
  {
   "cell_type": "markdown",
   "source": [
    "## Helper Functions"
   ],
   "metadata": {
    "collapsed": false
   },
   "id": "62f09c59a02a3b0d"
  },
  {
   "cell_type": "code",
   "execution_count": null,
   "outputs": [],
   "source": [
    "def generate_vectors(\n",
    "        num_vectors: int,\n",
    "        dim: int,\n",
    "        seed: int = 42,\n",
    ") -> np.ndarray:\n",
    "    \"\"\"\n",
    "    This function generates random vectors of uniform distribution.\n",
    "    Args:\n",
    "        num_vectors: The number of vectors to generate.\n",
    "        dim: The dimensionality of the vectors.\n",
    "        seed: The random seed.\n",
    "    Returns:\n",
    "        An array of shape (num_vectors, dim) containing the generated vectors.\n",
    "    \"\"\"\n",
    "    np.random.seed(seed)\n",
    "    return np.random.uniform(0, 1, (num_vectors, dim))"
   ],
   "metadata": {
    "collapsed": false
   },
   "id": "d07a97cb1910f4eb"
  },
  {
   "cell_type": "code",
   "execution_count": null,
   "outputs": [],
   "source": [
    "def naive_exhaustive_search(\n",
    "        query_vectors: np.ndarray,\n",
    "        index_vectors: np.ndarray, \n",
    "        k: int,\n",
    ") -> np.ndarray:\n",
    "    \"\"\"\n",
    "    This function computes the k-nearest neighbors of query_vectors in index_vectors using the naive exhaustive approach.\n",
    "    Args:\n",
    "        query_vectors: An array of shape (n_queries, dim) containing the query vectors. \n",
    "        index_vectors: An array of shape (n_index, dim) containing the index vectors.\n",
    "        k: The number of nearest neighbors to retrieve.\n",
    "    Returns:\n",
    "        An array of shape (n_queries, k) containing the indices of the k-nearest neighbors for each query vector.\n",
    "    \"\"\"\n",
    "    all_distances = []\n",
    "    for query_vector in query_vectors:\n",
    "        query_distances = []\n",
    "        for index_vector in index_vectors:\n",
    "            query_distances.append(spatial.distance.euclidean(query_vector, index_vector))\n",
    "        all_distances.append(np.argsort(query_distances)[:k])\n",
    "    return np.array(all_distances)"
   ],
   "metadata": {
    "collapsed": false
   },
   "id": "7cfa4ae815eb3bed"
  },
  {
   "cell_type": "code",
   "execution_count": null,
   "outputs": [],
   "source": [
    "def optimized_exhaustive_search(\n",
    "        query_vectors: np.ndarray,\n",
    "        index_vectors: np.ndarray,\n",
    "        k: int,\n",
    "):\n",
    "    \"\"\"\n",
    "    This function computes the k-nearest neighbors of query_vectors in index_vectors using the optimized exhaustive approach implemented in SciPy.\n",
    "    Args:\n",
    "        query_vectors: An array of shape (n_queries, dim) containing the query vectors. \n",
    "        index_vectors: An array of shape (n_index, dim) containing the index vectors.\n",
    "        k: The number of nearest neighbors to retrieve.\n",
    "    Returns:\n",
    "        An array of shape (n_queries, k) containing the indices of the k-nearest neighbors for each query vector.\n",
    "    \"\"\"\n",
    "    distances = spatial.distance.cdist(query_vectors, index_vectors, 'euclidean')\n",
    "    return np.argsort(distances, axis=1)[:, :k]"
   ],
   "metadata": {
    "collapsed": false
   },
   "id": "7537851ea24bcc72"
  },
  {
   "cell_type": "code",
   "execution_count": null,
   "outputs": [],
   "source": [
    "def build_faiss_flatl2_index(\n",
    "        index_vectors: np.ndarray,\n",
    "        dim: int,\n",
    "):\n",
    "    \"\"\"\n",
    "    This function builds a Faiss flat L2 index.\n",
    "    Args:\n",
    "        index_vectors: An array of shape (n_index, dim) containing the index vectors.\n",
    "        dim: The dimensionality of the vectors. \n",
    "    Returns:\n",
    "        A Faiss flat L2 index.\n",
    "    \"\"\"\n",
    "    index = faiss.IndexFlatL2(dim)\n",
    "    index.add(index_vectors)\n",
    "    return index"
   ],
   "metadata": {
    "collapsed": false
   },
   "id": "1f01332edcba8c75"
  },
  {
   "cell_type": "code",
   "execution_count": null,
   "outputs": [],
   "source": [
    "def faiss_search(\n",
    "        query_vectors: np.ndarray,\n",
    "        index: faiss.Index,\n",
    "        k: int,\n",
    "):\n",
    "    \"\"\"\n",
    "    This function uses a Faiss index to search for the k-nearest neighbors of query_vectors.\n",
    "    Args:\n",
    "        query_vectors: An array of shape (n_queries, dim) containing the query vectors. \n",
    "        index: A Faiss index.\n",
    "        k: The number of nearest neighbors to retrieve.\n",
    "    Returns:\n",
    "        An array of shape (n_queries, k) containing the indices of the k-nearest neighbors for each query vector.\n",
    "    \"\"\"\n",
    "    distances, indices = index.search(query_vectors, k)\n",
    "    return indices"
   ],
   "metadata": {
    "collapsed": false
   },
   "id": "5faaa648e2dc9a7e"
  },
  {
   "cell_type": "code",
   "execution_count": null,
   "outputs": [],
   "source": [
    "def build_faiss_lsh_index(\n",
    "        index_vectors: np.ndarray,\n",
    "        dim: int,\n",
    "        nbits: int,\n",
    "):\n",
    "    \"\"\"\n",
    "    This function builds a Faiss LSH index.\n",
    "    Args:\n",
    "        index_vectors: An array of shape (n_index, dim) containing the index vectors.\n",
    "        dim: The dimensionality of the vectors. \n",
    "        nbits: The number of bits to use in the hash.\n",
    "    Returns:\n",
    "        A Faiss LSH index.\n",
    "    \"\"\"\n",
    "    index = faiss.IndexLSH(dim, nbits)\n",
    "    index.add(index_vectors)\n",
    "    return index"
   ],
   "metadata": {
    "collapsed": false
   },
   "id": "885cd2ca0d30ee6b"
  },
  {
   "cell_type": "code",
   "execution_count": null,
   "outputs": [],
   "source": [
    "def compute_recall_at_k(\n",
    "        nn_gt: np.ndarray,\n",
    "        ann: np.ndarray,\n",
    "        k: int,\n",
    "):\n",
    "    \"\"\"\n",
    "    This function computes the recall@k.\n",
    "    Args:\n",
    "        nn_gt: The ground truth nearest neighbors.\n",
    "        ann: The approximate nearest neighbors.\n",
    "        k: The number of nearest neighbors to consider.\n",
    "    Returns:\n",
    "        The recall@k.\n",
    "    \"\"\"\n",
    "    return round(sum([len(set(ann[i]) & set(nn_gt[i])) / k for i in range(len(ann))])/len(ann), 3)"
   ],
   "metadata": {
    "collapsed": false
   },
   "id": "bd51da3ab0cd5f73"
  },
  {
   "cell_type": "markdown",
   "source": [
    "# 1.1 - Running Time Comparison\n",
    "\n",
    "You are given three methods for vector search:\n",
    "<ol>\n",
    " <li> naive_exhaustive_search </li> \n",
    " <li> optimized_exhaustive_search </li> \n",
    " <li> faiss_flatL2 </li> \n",
    "</ol>\n",
    "\n",
    "each one implements vector search with a different level of optimization. Your task is to compare the running time of these three methods and visualize the results.\n",
    "You need to complete the code so that the generated plots should reflect the increasing difference in running time between the methods, as a function of the desired parameters.\n",
    "The plots should be clear and self-explanatory, including the labels, title, and legend.\n",
    "There is no need to experiment with long running times (a few minutes), just ensure that the trends are visible.\n",
    "You are allowed to add more cells before and between the TODOs, but do not flip the order of the subsections.\n",
    "Make sure that when you submit the notebook, the plots are generated (namely the cell is already executed and the plots are displayed in the notebook)."
   ],
   "metadata": {
    "collapsed": false
   },
   "id": "77d4be2e90ed842"
  },
  {
   "metadata": {},
   "cell_type": "markdown",
   "source": [
    "### Generate the following plots:\n",
    "##### 1.1.1. Running time comparison between the naive exhaustive_search and faiss_flatL2 methods as a function of the number of vectors in the index (x-axis) with the following parameters fixed:\n",
    " the two methods as a function of the number of vectors in the index (x-axis) with the following parameters fixed:\n",
    "* vector dimensionality: 100\n",
    "* number of vectors in the query set: 100\n",
    "##### 1.1.2. Running time comparison between the optimized_exhaustive_search and faiss_flatL2 methods as a function of the number of vectors in the index (x-axis) with the following parameters fixed:\n",
    " the two methods as a function of the number of vectors in the index (x-axis) with the following parameters fixed:\n",
    "* vector dimensionality: 500\n",
    "* number of vectors in the query set: 500\n",
    "##### 1.1.3. Running time comparison between the optimized_exhaustive_search and faiss_flatL2 methods as a function of the dimensionality of the vectors (x-axis) with the following parameters fixed:\n",
    "* number of vectors in the index: 20000\n",
    "* number of vectors in the query set: 200"
   ],
   "id": "837db120f597a563"
  },
  {
   "cell_type": "code",
   "execution_count": null,
   "outputs": [],
   "source": [
    "#TODO: Write your code for 1.1.1 here"
   ],
   "metadata": {
    "collapsed": false
   },
   "id": "2b1e79e9d39a92ee"
  },
  {
   "cell_type": "code",
   "execution_count": null,
   "outputs": [],
   "source": [
    "#TODO: Write your code for 1.1.2 here"
   ],
   "metadata": {
    "collapsed": false
   },
   "id": "9558e6739debe574"
  },
  {
   "cell_type": "code",
   "execution_count": null,
   "outputs": [],
   "source": [
    "#TODO: Write your code for 1.1.3 here"
   ],
   "metadata": {
    "collapsed": false
   },
   "id": "933cb0d3c5639f9a"
  },
  {
   "cell_type": "markdown",
   "source": [],
   "metadata": {
    "collapsed": false
   },
   "id": "1536a5ecfa0c1815"
  },
  {
   "cell_type": "markdown",
   "source": [
    "# 1.2 -- Faiss LSH\n",
    "### Create the following plots:\n",
    "##### 1.2.1. Running time of Faiss LSH as a function of the number of vectors in the index (x-axis) with the following parameters fixed:\n",
    "* vector dimensionality: 100\n",
    "* number of vectors in the query set: 1000\n",
    "* nbits: 500\n",
    "\n",
    "##### 1.2.2. Running time of Faiss LSH as a function of nbits (x-axis) with the following parameters fixed:\n",
    "* vector dimensionality: 100\n",
    "* number of vectors in the query set: 1000\n",
    "* number of vectors in the index: 500000\n",
    "\n",
    "\n",
    "##### 1.2.3. recall@k of Faiss LSH as a function of nbits (x-axis) with the following parameters fixed:\n",
    "* vector dimensionality: 500\n",
    "* number of vectors in the query set: 100\n",
    "* number of vectors in the index: 100000\n",
    "* k: 10\n",
    "\n",
    "\n",
    "You need to complete the code so that the generated plots should reflect the desired metrics as a function of the desired parameters.\n",
    "The plots should be clear and self-explanatory, including the labels, title, and legend.\n",
    "There is no need to experiment with long running times (few seconds are enough for each plot); just ensure that the trends are visible.\n",
    "You are allowed to add more cells before and between the TODOs, but do not flip the order of the subsections.\n",
    "Make sure that when you submit the notebook, the plots are generated (namely the cell is already executed and the plots are displayed in the notebook).\n"
   ],
   "metadata": {
    "collapsed": false
   },
   "id": "48aeaf9650c05a39"
  },
  {
   "cell_type": "code",
   "execution_count": null,
   "outputs": [],
   "source": [
    "#TODO: Write your code for 1.2.1 here\n"
   ],
   "metadata": {
    "collapsed": false
   },
   "id": "43ff7195c0f9520f"
  },
  {
   "cell_type": "code",
   "execution_count": null,
   "outputs": [],
   "source": [
    "#TODO: Write your code for 1.2.2 here\n"
   ],
   "metadata": {
    "collapsed": false
   },
   "id": "c5c7da05080c26b6"
  },
  {
   "cell_type": "code",
   "execution_count": null,
   "outputs": [],
   "source": [
    "#TODO: Write your code for 1.2.3 here\n"
   ],
   "metadata": {
    "collapsed": false
   },
   "id": "78d8301738240e8c"
  }
 ],
 "metadata": {
  "kernelspec": {
   "display_name": "Python 3",
   "language": "python",
   "name": "python3"
  },
  "language_info": {
   "codemirror_mode": {
    "name": "ipython",
    "version": 2
   },
   "file_extension": ".py",
   "mimetype": "text/x-python",
   "name": "python",
   "nbconvert_exporter": "python",
   "pygments_lexer": "ipython2",
   "version": "2.7.6"
  }
 },
 "nbformat": 4,
 "nbformat_minor": 5
}
