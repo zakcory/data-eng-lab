{
 "cells": [
  {
   "cell_type": "code",
   "execution_count": 1,
   "id": "initial_id",
   "metadata": {
    "ExecuteTime": {
     "end_time": "2024-07-15T00:21:27.912347400Z",
     "start_time": "2024-07-15T00:21:19.533317100Z"
    },
    "collapsed": true
   },
   "outputs": [],
   "source": [
    "import torch\n",
    "from torch_geometric.data import Data\n",
    "import pandas as pd\n",
    "import pickle\n",
    "import numpy as np\n",
    "\n",
    "from torch_geometric.nn import SAGEConv\n",
    "import torch\n",
    "import torch_geometric\n",
    "import torch.nn.functional as F\n",
    "torch_geometric.set_debug(True)"
   ]
  },
  {
   "cell_type": "markdown",
   "id": "136140db7336aab",
   "metadata": {
    "collapsed": false
   },
   "source": [
    "# Helper Functions"
   ]
  },
  {
   "cell_type": "code",
   "execution_count": null,
   "outputs": [],
   "source": [],
   "metadata": {
    "collapsed": false
   },
   "id": "964d18827d45c082"
  },
  {
   "cell_type": "code",
   "execution_count": 3,
   "id": "8991848c218eb533",
   "metadata": {
    "ExecuteTime": {
     "end_time": "2024-07-15T00:25:17.172389200Z",
     "start_time": "2024-07-15T00:25:17.140863300Z"
    },
    "collapsed": false
   },
   "outputs": [],
   "source": [
    "def read_data(nodes_df_path, edges_df_path, subject_mapping_path):\n",
    "    nodes_df = pd.read_csv(nodes_df_path)\n",
    "    edges_df = pd.read_csv(edges_df_path)\n",
    "    with open(subject_mapping_path, 'rb') as f:\n",
    "        subject_mapping = pickle.load(f)\n",
    "    return nodes_df, edges_df, subject_mapping\n",
    "\n",
    "\n",
    "def get_node_id_mapping(nodes_df):\n",
    "    node_id_mapping, inverse_node_id_mapping = dict(), dict()\n",
    "    for i, node_id in enumerate(nodes_df['nodeId']):\n",
    "        node_id_mapping[i] = node_id\n",
    "        inverse_node_id_mapping[node_id] = i\n",
    "    return node_id_mapping, inverse_node_id_mapping"
   ]
  },
  {
   "cell_type": "code",
   "execution_count": null,
   "id": "6253a74469198dfa",
   "metadata": {
    "collapsed": false
   },
   "outputs": [],
   "source": [
    "def get_feature_vectors():\n",
    "    # TODO: Complete this function\n",
    "    pass\n",
    "\n",
    "\n",
    "def get_edges():\n",
    "    # TODO: Complete this function\n",
    "    pass\n",
    "\n",
    "\n",
    "def get_labels():\n",
    "    # TODO: Complete this function\n",
    "    pass"
   ]
  },
  {
   "cell_type": "markdown",
   "id": "10ebc6262a706663",
   "metadata": {
    "collapsed": false
   },
   "source": [
    "# Graph Generation"
   ]
  },
  {
   "cell_type": "code",
   "execution_count": 4,
   "id": "2990d42fb3fb06aa",
   "metadata": {
    "ExecuteTime": {
     "end_time": "2024-07-15T00:25:18.599753700Z",
     "start_time": "2024-07-15T00:25:18.441126100Z"
    },
    "collapsed": false
   },
   "outputs": [],
   "source": [
    "nodes_df_path = 'nodes.csv'\n",
    "edges_df_path = 'edges.csv'\n",
    "subject_mapping_path = 'subject_mapping.pkl'\n",
    "nodes_df, edges_df, subject_mapping = read_data(nodes_df_path, edges_df_path, subject_mapping_path)"
   ]
  },
  {
   "cell_type": "code",
   "execution_count": null,
   "id": "84eb6ec8c176a408",
   "metadata": {
    "collapsed": false
   },
   "outputs": [],
   "source": [
    "node_id_mapping, inverse_node_id_mapping = get_node_id_mapping(nodes_df)\n",
    "# TODO: These functions need to be implemented. You can decide what are the input arguments to these functions.\n",
    "x = get_feature_vectors()\n",
    "edge_index = get_edges()\n",
    "y = get_labels()"
   ]
  },
  {
   "cell_type": "code",
   "execution_count": null,
   "id": "dd2655ccbe7fb0d0",
   "metadata": {
    "collapsed": false
   },
   "outputs": [],
   "source": [
    "with open('indices_dict_part2.pkl', 'rb') as f:\n",
    "    indices_dict = pickle.load(f)"
   ]
  },
  {
   "cell_type": "code",
   "execution_count": null,
   "id": "1a0eded454dcceb9",
   "metadata": {
    "collapsed": false
   },
   "outputs": [],
   "source": [
    "train_mask = torch.tensor([1 if node_id_mapping[i] in indices_dict['train_indices'] else 0 for i in range(x.shape[0])], dtype=torch.bool)\n",
    "valid_mask = torch.tensor([1 if node_id_mapping[i] in indices_dict['valid_indices'] else 0 for i in range(x.shape[0])], dtype=torch.bool)\n",
    "test_mask = torch.tensor([1 if node_id_mapping[i] in indices_dict['test_indices'] else 0 for i in range(x.shape[0])], dtype=torch.bool)"
   ]
  },
  {
   "cell_type": "code",
   "execution_count": null,
   "id": "6d6223faffd4f9c0",
   "metadata": {
    "collapsed": false
   },
   "outputs": [],
   "source": [
    "data = Data(x=x, y=y, edge_index=edge_index, train_mask=train_mask, valid_mask=valid_mask, test_mask=test_mask)"
   ]
  },
  {
   "cell_type": "markdown",
   "id": "54a0a673d4c35320",
   "metadata": {
    "collapsed": false
   },
   "source": [
    "# GNN Model"
   ]
  },
  {
   "cell_type": "code",
   "execution_count": null,
   "id": "b5ec05507e2191a6",
   "metadata": {
    "collapsed": false
   },
   "outputs": [],
   "source": [
    "class GraphSAGE(torch.nn.Module):\n",
    "    def __init__(self, hidden_channels, output_dim, seed):\n",
    "        super().__init__()\n",
    "        torch.cuda.manual_seed(seed)\n",
    "        # TODO: Complete this function\n",
    "\n",
    "    def forward(self, x, edge_index):\n",
    "        # TODO: Complete this function\n",
    "        pass"
   ]
  },
  {
   "cell_type": "code",
   "execution_count": null,
   "id": "2546eef3c13fa603",
   "metadata": {
    "collapsed": false
   },
   "outputs": [],
   "source": []
  },
  {
   "cell_type": "markdown",
   "id": "93bb36dc1de13f2c",
   "metadata": {
    "collapsed": false
   },
   "source": [
    "# Training"
   ]
  },
  {
   "cell_type": "code",
   "execution_count": null,
   "id": "b0893059e6c29aca",
   "metadata": {
    "collapsed": false
   },
   "outputs": [],
   "source": [
    "output_dim = len(subject_mapping)\n",
    "device = torch.device('cuda' if torch.cuda.is_available() else 'cpu')\n",
    "data = data.to(device)"
   ]
  },
  {
   "cell_type": "code",
   "execution_count": null,
   "outputs": [],
   "source": [
    "def evaluate(best_model, rel_mask):\n",
    "    best_model.eval()\n",
    "    preds = model(data.x, data.edge_index).argmax(dim=1)\n",
    "    correct = (preds[rel_mask] == data.y[rel_mask]).sum()\n",
    "    return round(int(correct) / int(rel_mask.sum()), 3)"
   ],
   "metadata": {
    "collapsed": false
   },
   "id": "5bd270ed6ebc396d"
  },
  {
   "cell_type": "code",
   "execution_count": null,
   "id": "af409902fac89678",
   "metadata": {
    "collapsed": false
   },
   "outputs": [],
   "source": [
    "def train():\n",
    "    # TODO: Complete this function (you can decide what are the input arguments to this function). Make sure you save the model to be used for evaluation as 'best_model.pt'\n",
    "    pass"
   ]
  },
  {
   "cell_type": "markdown",
   "id": "db0101f5c562bf4b",
   "metadata": {
    "collapsed": false
   },
   "source": [
    "# Evaluation"
   ]
  },
  {
   "cell_type": "code",
   "execution_count": null,
   "id": "aa13e475b1ef81a2",
   "metadata": {
    "collapsed": false
   },
   "outputs": [],
   "source": [
    "test_scores = []\n",
    "for seed in range(1, 4):\n",
    "    model = GraphSAGE(x.shape[1], output_dim, seed).to(device)\n",
    "    optimizer = torch.optim.Adam(model.parameters(), lr=0.01, weight_decay=5e-4)\n",
    "    # TODO: Change the call for train if needed\n",
    "    train()\n",
    "    best_model = torch.load('best_model.pt')\n",
    "    curr_seed_score = evaluate(best_model, data.test_mask)\n",
    "    test_scores.append(curr_seed_score)\n",
    "    print(f\"Seed: {seed}, Test score: {curr_seed_score}\")"
   ]
  },
  {
   "cell_type": "code",
   "execution_count": null,
   "id": "a14def337d9a7d0a",
   "metadata": {
    "collapsed": false
   },
   "outputs": [],
   "source": [
    "print(test_scores)"
   ]
  }
 ],
 "metadata": {
  "kernelspec": {
   "display_name": "Python 3",
   "language": "python",
   "name": "python3"
  },
  "language_info": {
   "codemirror_mode": {
    "name": "ipython",
    "version": 2
   },
   "file_extension": ".py",
   "mimetype": "text/x-python",
   "name": "python",
   "nbconvert_exporter": "python",
   "pygments_lexer": "ipython2",
   "version": "2.7.6"
  }
 },
 "nbformat": 4,
 "nbformat_minor": 5
}
